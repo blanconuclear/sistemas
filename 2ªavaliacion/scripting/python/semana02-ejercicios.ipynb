{
 "cells": [
  {
   "attachments": {},
   "cell_type": "markdown",
   "metadata": {},
   "source": [
    "<center>\n",
    "<h1 style=\"color: #007BC4;\">Curso de programación con Python</h1> \n",
    "<h3 style=\"color: #333333;\">SEMANA 2 - EJERCICIOS</h3> \n",
    "</center>\n",
    "\n",
    "<br>\n"
   ]
  },
  {
   "attachments": {},
   "cell_type": "markdown",
   "metadata": {},
   "source": [
    "#### Autor: escribir aquí el nombre del autor\n",
    "Gerardo A. Otero Rodríguez\n"
   ]
  },
  {
   "attachments": {},
   "cell_type": "markdown",
   "metadata": {},
   "source": [
    "<h2 style=\"color: #007BC4;\">Ejercicio 1</h2>\n",
    "<hr style=\"border: 0.5px solid #007BC4;\">\n",
    "\n",
    "Los tramos impositivos para la declaración de la renta en un determinado país son los siguientes:\n",
    "\n",
    "|         Renta          | Tipo impositivo |\n",
    "| :--------------------: | :-------------: |\n",
    "|    Menos de 10000€     |       5%        |\n",
    "| Entre 10000€ y 20000€  |       15%       |\n",
    "| Entre 200000€ y 35000€ |       20%       |\n",
    "| Entre 350000€ y 60000€ |       30%       |\n",
    "|     Más de 60000€      |       45%       |\n",
    "\n",
    "Escribir un programa que pregunte al usuario su renta anual y muestre por pantalla el tipo impositivo que le corresponde. \n",
    "\n",
    "\n",
    "#### Ejemplos de ejecución:\n",
    "\n",
    "<pre>\n",
    "¿Cuál es tu renta anual? 0\n",
    "Error, la renta ha de ser mayor que 0.\n",
    "\n",
    "--------------------------------------------------------------\n",
    "\n",
    "¿Cuál es tu renta anual? 40000\n",
    "Tu tipo impositivo es 30%\n",
    "</pre>"
   ]
  },
  {
   "cell_type": "code",
   "execution_count": 3,
   "metadata": {},
   "outputs": [
    {
     "name": "stdout",
     "output_type": "stream",
     "text": [
      "O teu tipo impositivo é 45%\n"
     ]
    }
   ],
   "source": [
    "#Escribe aquí el código de tu solución\n",
    "renda = int(input(\"Cal é a túa renda anual: \"))\n",
    "tipo = 0\n",
    "\n",
    "if renda <= 0:\n",
    "    print(\"A túa renda debe ser maior que cero\")\n",
    "else:\n",
    "    if renda < 10000:\n",
    "        tipo = 5\n",
    "    elif renda < 20000:\n",
    "        tipo = 15\n",
    "    elif renda < 35000:\n",
    "        tipo = 20\n",
    "    elif renda < 60000:\n",
    "        tipo = 30\n",
    "    else:\n",
    "        tipo = 45\n",
    "\n",
    "print(f\"O teu tipo impositivo é {tipo}%\")    "
   ]
  },
  {
   "attachments": {},
   "cell_type": "markdown",
   "metadata": {},
   "source": [
    "<h2 style=\"color: #007BC4;\">Ejercicio 2</h2>\n",
    "<hr style=\"border: 0.5px solid #007BC4;\">\n",
    "\n",
    "Escribir un programa que pida al usuario un número entero positivo y muestre por pantalla la cuenta atrás desde ese número hasta cero separados por comas.\n",
    "\n",
    "#### Ejemplo de ejecución:\n",
    "<pre>\n",
    "Introduce un número entero positivo: 20\n",
    "20, 19, 18, 17, 16, 15, 14, 13, 12, 11, 10, 9, 8, 7, 6, 5, 4, 3, 2, 1, 0\n",
    "</pre>"
   ]
  },
  {
   "cell_type": "code",
   "execution_count": 1,
   "metadata": {},
   "outputs": [
    {
     "name": "stdout",
     "output_type": "stream",
     "text": [
      "[20, 19, 18, 17, 16, 15, 14, 13, 12, 11, 10, 9, 8, 7, 6, 5, 4, 3, 2, 1, 0]\n"
     ]
    }
   ],
   "source": [
    "#Escribe aquí el código de tu solución\n",
    "n = 0 \n",
    "\n",
    "while n <= 0:\n",
    "    n = int(input(\"Introduce un número enteiro positivo\"))\n",
    "\n",
    "i = n\n",
    "lista = []\n",
    "\n",
    "while i >= 0:\n",
    "    lista.append(i)\n",
    "    i -= 1\n",
    "\n",
    "print(lista, sep=\", \")"
   ]
  },
  {
   "attachments": {},
   "cell_type": "markdown",
   "metadata": {},
   "source": [
    "<h2 style=\"color: #007BC4;\">Ejercicio 3</h2>\n",
    "<hr style=\"border: 0.5px solid #007BC4;\">\n",
    "\n",
    "Desarrollar un programa en Python que dibuje en pantalla una figura tipo sierra haciendo uso del carácter #.\n",
    "Para ello, se preguntará al usuario:\n",
    "- El ancho de la figura (valor entre 2 y 10). \n",
    "- El número de dientes de sierra que tendrá la figura (valor entre 2 y 10)\n",
    "\n",
    "#### Ejemplo de ejecución:\n",
    "<pre>\n",
    "Introduce la longitud del diente de sierra (2<=n<=10): 5\n",
    "Introduce el número de dientes de la figura (1<=n<=10): 2\n",
    "#\n",
    "##\n",
    "###\n",
    "####\n",
    "#####\n",
    "####\n",
    "###\n",
    "##\n",
    "#\n",
    "#\n",
    "##\n",
    "###\n",
    "####\n",
    "#####\n",
    "####\n",
    "###\n",
    "##\n",
    "#\n",
    "</pre>"
   ]
  },
  {
   "cell_type": "code",
   "execution_count": 9,
   "metadata": {},
   "outputs": [
    {
     "name": "stdout",
     "output_type": "stream",
     "text": [
      "*\n",
      "**\n",
      "***\n",
      "****\n",
      "*****\n",
      "****\n",
      "***\n",
      "**\n",
      "*\n",
      "*\n",
      "**\n",
      "***\n",
      "****\n",
      "*****\n",
      "****\n",
      "***\n",
      "**\n",
      "*\n"
     ]
    }
   ],
   "source": [
    "#Escribe aquí el código de tu solución\n",
    "l = 0\n",
    "n = 0\n",
    "\n",
    "while (n <= 0 and l <= 0):\n",
    "    l = int(input(\"Lonxitude do dente de serra: \"))\n",
    "    n = int(input(\"Número de dentes: \"))\n",
    "\n",
    "for j in range (0,n):\n",
    "    for i in range(1,l+1):\n",
    "        print(\"*\"*i)\n",
    "    for i in range(l-1,0,-1):\n",
    "        print(\"*\"*i)\n"
   ]
  },
  {
   "attachments": {},
   "cell_type": "markdown",
   "metadata": {},
   "source": [
    "<h2 style=\"color: #007BC4;\">Ejercicio 4</h2>\n",
    "<hr style=\"border: 0.5px solid #007BC4;\">\n",
    "\n",
    "Implementar un programa en Python que calcule el producto escalar de dos vectores:<br>\n",
    "\n",
    "<center>\n",
    "<img src=\"img/producto_escalar.png\"/>\n",
    "</center>   \n",
    "\n",
    "El programa debe hacer lo siguiente:\n",
    "- Leer por teclado un número entero positivo (n). Este número representará la dimensión de los vectores.\n",
    "- Leer por teclado n números reales y almacenarlos en una lista. Estos números representarán los elementos del primer vector.\n",
    "- Leer por teclado n números reales y almacenarlos en otra lista. Estos números representarán los elementos del segundo vector.\n",
    "- Muestre por pantalla el resultado del producto escalar de los dos vectores con dos decimales.\n",
    "\n",
    "\n",
    "#### Ejemplo de ejecución:\n",
    "<pre>\n",
    "Introduce la dimensión de los vectores: 4 \n",
    "Introduce los valores del primer vector:\n",
    "Dato 0: 1.2 \n",
    "Dato 1: 3.5 \n",
    "Dato 2: -2.1 \n",
    "Dato 3: 6.6 \n",
    "Introduce los valores del segundo vector:\n",
    "Dato 0: 3.3 \n",
    "Dato 1: -0.9 \n",
    "Dato 2: 1.8 \n",
    "Dato 3: 7.5 \n",
    "El producto escalar vale 46.53\n",
    "\n",
    "--------------------------------------------\n",
    "\n",
    "Introduce la dimensión de los vectores : 2\n",
    "Introduce los valores del primer vector:\n",
    "Dato 0: 2.3\n",
    "Dato 1: 1.5\n",
    "Introduce los valores del segundo vector:\n",
    "Dato 0: 2.0\n",
    "Dato 1: -2.0\n",
    "El producto escalar vale 1.60\n",
    "</pre>\n"
   ]
  },
  {
   "cell_type": "code",
   "execution_count": 6,
   "metadata": {},
   "outputs": [
    {
     "name": "stdout",
     "output_type": "stream",
     "text": [
      "Introduce os valores do primeiro vector: \n",
      "Introduce os valores do segundo vector: \n",
      "O produto escalar é 1.60\n"
     ]
    }
   ],
   "source": [
    "#Escribe aquí el código de tu solución\n",
    "d = int(input(\"Introduce a dimensión dos vectores: \"))\n",
    "v1 = []\n",
    "v2 = []\n",
    "p = 0\n",
    "\n",
    "print(\"Introduce os valores do primeiro vector: \")\n",
    "for i in range(0,d):\n",
    "    v1.append(float(input(\"Dato :\")))\n",
    "\n",
    "print(\"Introduce os valores do segundo vector: \")\n",
    "for i in range(0,d):\n",
    "    v2.append(float(input(\"Dato:\")))\n",
    "\n",
    "for i in range(0,d):\n",
    "    p = p + (v1[i] * v2[i])\n",
    "\n",
    "print(f\"O produto escalar é {p:.2f}\")"
   ]
  },
  {
   "attachments": {},
   "cell_type": "markdown",
   "metadata": {},
   "source": [
    "<h2 style=\"color: #007BC4;\">Ejercicio 5</h2>\n",
    "<hr style=\"border: 0.5px solid #007BC4;\">\n",
    "\n",
    "Realizar un programa en Python que pida al usuario la dimensión y los elementos de dos listas de números enteros (pueden tener distinta dimensión):\n",
    "\n",
    "- Una vez leídos los datos y almacenados en las listas, se generará una nueva lista que será la intersección de ambas, es decir, contendrá aquellos elementos que se encuentren en ambas listas.\n",
    "- El vector intersección se mostrará por pantalla siempre que existan elementos comunes.\n",
    "\n",
    "NOTA: se asume que el usuario no introduce elementos repetidos dentro del mismo vector.\n",
    "\n",
    "\n",
    "#### Ejemplo de ejecución:\n",
    "\n",
    "<pre>\n",
    "Introduce el numero de elementos de la lista 1 (>0):  3\n",
    "Introduce los números:\n",
    "Dato 1: 2\n",
    "Dato 2: 4\n",
    "Dato 3: 1\n",
    "\n",
    "Introduce el numero de elementos de la lista 2 (>0):  5\n",
    "Introduce los números:\n",
    "Dato 1: 3\n",
    "Dato 2: 3\n",
    "Error, elemento repetido. Dato 2: 2\n",
    "Dato 3: 9\n",
    "Dato 4: 0\n",
    "Dato 5: 1\n",
    "\n",
    "La intersección de las listas es: 2 1\n",
    "\n",
    "-----------------------------------------------------------\n",
    "\n",
    "Introduce el numero de elementos de la lista 1 (>0):  2\n",
    "Introduce los números:\n",
    "Dato 0: 3\n",
    "Dato 1: -2\n",
    "\n",
    "Introduce el numero de elementos de la lista 2 (>0):  3\n",
    "Introduce los números:\n",
    "Dato 0: 0\n",
    "Dato 1: 4\n",
    "Dato 2: 5\n",
    "\n",
    "No hay elementos comunes\n",
    "</pre>\n"
   ]
  },
  {
   "cell_type": "code",
   "execution_count": 11,
   "metadata": {},
   "outputs": [
    {
     "name": "stdout",
     "output_type": "stream",
     "text": [
      "Non hai coincidencias\n"
     ]
    }
   ],
   "source": [
    "#Escribe aquí el código de tu solución\n",
    "def recheaLista(n):\n",
    "    \"\"\"Funcion que rechea unha lista\"\"\"\n",
    "    l = []\n",
    "    for i in range(0,n):\n",
    "        e = int(input(\"Introduce un elemento: \"))\n",
    "        if e not in l:\n",
    "            l.append(e)\n",
    "    return l\n",
    "\n",
    "def atopaCoincidencias(l1,l2):\n",
    "    \"\"\"Funcion que comproba as coincidencias de elementos entre dúas listas\"\"\"\n",
    "    l = []\n",
    "    for i in l1:\n",
    "        if i in l2:\n",
    "            l.append(i)\n",
    "    return l\n",
    "\n",
    "n1 = int(input(\"Introduce o numero de elementos da lista 1 (>0): \"))\n",
    "l1 = recheaLista(n1)\n",
    "n2 = int(input(\"Introduce o numero de elementos da lista 2 (>0): \"))\n",
    "l2 = recheaLista(n2)\n",
    "\n",
    "if __name__ == \"__main__\":\n",
    "    l = atopaCoincidencias(l1,l2)\n",
    "    if len(l) == 0:\n",
    "        print(\"Non hai elementos comúns\")\n",
    "    else:\n",
    "        print(l)\n",
    "\n",
    "\n"
   ]
  },
  {
   "attachments": {},
   "cell_type": "markdown",
   "metadata": {},
   "source": [
    "<h2 style=\"color: #007BC4;\">Ejercicio 6</h2>\n",
    "<hr style=\"border: 0.5px solid #007BC4;\">\n",
    "\n",
    "Implementar un programa en Python que:\n",
    "- Lea una frase (f) por teclado.\n",
    "- Lea un caracter por teclado (c) \n",
    "- Cambie todas las vocales de f por c Muestre f\n",
    "\n",
    "#### Ejemplo de ejecución:\n",
    "\n",
    "Dime una frase: Programar en python es muy divertido<br>\n",
    "Dime un caracter: o<br>\n",
    "La nueva frase es: Progromor on python os moy dovortodo<br>\n",
    "\n",
    "================================================================\n",
    "\n",
    "Dime una frase: Estamos trabajando con listas<br>\n",
    "Dime un caracter: ?<br>\n",
    "La nueva frase es: ?st?m?s tr?b?j?nd? c?n l?st?s<br>"
   ]
  },
  {
   "cell_type": "code",
   "execution_count": 12,
   "metadata": {},
   "outputs": [
    {
     "name": "stdout",
     "output_type": "stream",
     "text": [
      "?st?m?s tr?b?j?nd? c?n l?st?s\n"
     ]
    }
   ],
   "source": [
    "f = str(input(\"Introduce unha frase: \"))\n",
    "c = str(input(\"Introduce un caracter: \"))\n",
    "v = [\"a\",\"e\",\"i\",\"o\",\"u\",\"A\",\"E\",\"I\",\"O\",\"U\"]\n",
    "\n",
    "for i in range (0,len(f)):\n",
    "    if f[i] in v:\n",
    "        f = f.replace(f[i],c)\n",
    "\n",
    "print(f)"
   ]
  }
 ],
 "metadata": {
  "kernelspec": {
   "display_name": "Python 3 (ipykernel)",
   "language": "python",
   "name": "python3"
  },
  "language_info": {
   "codemirror_mode": {
    "name": "ipython",
    "version": 3
   },
   "file_extension": ".py",
   "mimetype": "text/x-python",
   "name": "python",
   "nbconvert_exporter": "python",
   "pygments_lexer": "ipython3",
   "version": "3.11.0"
  },
  "vscode": {
   "interpreter": {
    "hash": "7e1998ff7f8aa20ada591c520b972326324e5ea05489af9e422744c7c09f6dad"
   }
  }
 },
 "nbformat": 4,
 "nbformat_minor": 4
}
